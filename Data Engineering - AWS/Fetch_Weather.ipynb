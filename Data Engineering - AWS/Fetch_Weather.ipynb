{
 "cells": [
  {
   "cell_type": "code",
   "execution_count": null,
   "id": "e88050c6",
   "metadata": {},
   "outputs": [],
   "source": [
    "import json\n",
    "\n",
    "# http://api.weatherapi.com/v1/current.json?key=&q=India&aqi=no\n",
    "from datetime import datetime\n",
    "import requests  \n",
    "import boto3\n",
    "from decimal import Decimal\n",
    "\n",
    "dynamodb = boto3.resource('dynamodb')\n",
    "table = dynamodb.Table(\"Weather\")\n",
    "\n",
    "def get_weather_data(city):  \n",
    "    api_url = \"http://api.weatherapi.com/v1/current.json\"\n",
    "    params = {  \n",
    "        \"q\": city,    \n",
    "        \"key\": \"61d546acafa24d25a7a213530242604\"\n",
    "    }  \n",
    "    response = requests.get(api_url, params=params)  \n",
    "    data = response.json()  \n",
    "    return data  \n",
    "    \n",
    "    \n",
    "\n",
    "def lambda_handler(event, context):\n",
    "\n",
    "    cities = [\"Bangalore\",\"Delhi\",\"Mumbai\",\"Chennai\",\"Kashmir\",\"Dehradun\",\"Kochi\",\"Kerela\",\"Hyderabad\",\"Sikkim\"]\n",
    "    for city in cities:\n",
    "        data = get_weather_data(city)  \n",
    "    \n",
    "        temp = data['current']['temp_c']\n",
    "        wind_speed = data['current']['wind_mph']\n",
    "        wind_dir = data['current']['wind_dir']\n",
    "        pressure_mb = data['current']['pressure_mb']\n",
    "        humidity = data['current']['humidity']\n",
    "    \n",
    "        print(city,temp,wind_speed,wind_dir,pressure_mb,humidity)\n",
    "        current_timestamp = datetime.utcnow().isoformat()\n",
    "        \n",
    "        item = {\n",
    "                'city': city,\n",
    "                'time': str(current_timestamp),\n",
    "                'temp': temp,\n",
    "                'wind_speed': wind_speed,\n",
    "                'wind_dir': wind_dir,\n",
    "                'pressure_mb': pressure_mb,\n",
    "                'humidity': humidity\n",
    "            }\n",
    "        item = json.loads(json.dumps(item), parse_float=Decimal)\n",
    "        # Insert data into DynamoDB\n",
    "        table.put_item(\n",
    "            Item=item\n",
    "        )"
   ]
  }
 ],
 "metadata": {
  "kernelspec": {
   "display_name": "Python 3 (ipykernel)",
   "language": "python",
   "name": "python3"
  },
  "language_info": {
   "codemirror_mode": {
    "name": "ipython",
    "version": 3
   },
   "file_extension": ".py",
   "mimetype": "text/x-python",
   "name": "python",
   "nbconvert_exporter": "python",
   "pygments_lexer": "ipython3",
   "version": "3.9.13"
  }
 },
 "nbformat": 4,
 "nbformat_minor": 5
}
