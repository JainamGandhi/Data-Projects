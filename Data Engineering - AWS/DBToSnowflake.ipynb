{
 "cells": [
  {
   "cell_type": "code",
   "execution_count": null,
   "id": "2ff2fd50",
   "metadata": {},
   "outputs": [],
   "source": [
    "from datetime import datetime\n",
    "import pandas as pd\n",
    "import boto3\n",
    "from io import StringIO\n",
    "\n",
    "def handle_insert(record):\n",
    "    print(\"Handling Insert: \", record)\n",
    "    dict = {}\n",
    "\n",
    "    for key, value in record['dynamodb']['NewImage'].items():\n",
    "        for dt, col in value.items():\n",
    "            dict.update({key: col})\n",
    "\n",
    "    dff = pd.DataFrame([dict])\n",
    "    return dff\n",
    "\n",
    "\n",
    "\n",
    "def lambda_handler(event, context):\n",
    "    print(event)\n",
    "    df = pd.DataFrame()\n",
    "\n",
    "    for record in event['Records']:\n",
    "        table = record['eventSourceARN'].split(\"/\")[1]\n",
    "\n",
    "        if record['eventName'] == \"INSERT\": \n",
    "            dff = handle_insert(record)\n",
    "        df = dff\n",
    "\n",
    "    if not df.empty:\n",
    "        all_columns = list(df)\n",
    "        df[all_columns] = df[all_columns].astype(str)\n",
    "\n",
    "        path = table + \"_\" + str(datetime.now()) + \".csv\"\n",
    "        print(event)\n",
    "\n",
    "        csv_buffer = StringIO()\n",
    "        df.to_csv(csv_buffer,index=False)\n",
    "\n",
    "        s3 = boto3.client('s3')\n",
    "        bucketName = \"de-project-datawithdata-jg\"\n",
    "        key = \"snowflake/\" + table + \"_\" + str(datetime.now()) + \".csv\"\n",
    "        print(key)\n",
    "        \n",
    "        s3.put_object(Bucket=bucketName, Key=key, Body=csv_buffer.getvalue(),)\n",
    "\n",
    "    print('Successfully processed %s records.' % str(len(event['Records'])))"
   ]
  }
 ],
 "metadata": {
  "kernelspec": {
   "display_name": "Python 3 (ipykernel)",
   "language": "python",
   "name": "python3"
  },
  "language_info": {
   "codemirror_mode": {
    "name": "ipython",
    "version": 3
   },
   "file_extension": ".py",
   "mimetype": "text/x-python",
   "name": "python",
   "nbconvert_exporter": "python",
   "pygments_lexer": "ipython3",
   "version": "3.9.13"
  }
 },
 "nbformat": 4,
 "nbformat_minor": 5
}
